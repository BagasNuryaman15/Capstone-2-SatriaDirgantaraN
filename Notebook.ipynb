{
 "cells": [
  {
   "cell_type": "markdown",
   "id": "11cf4081",
   "metadata": {},
   "source": [
    "# **Customer LifeTime Value**"
   ]
  },
  {
   "cell_type": "markdown",
   "id": "bee73fc1",
   "metadata": {},
   "source": [
    "[Sumber Dataset Customer LifeTime Value](https://docs.google.com/document/d/1pEckO_D4vdUk_bIZX-lkmghmMX30WyPu/edit?usp=drive_link&ouid=116686943531344751554&rtpof=true&sd=true)"
   ]
  },
  {
   "cell_type": "markdown",
   "id": "a4046106",
   "metadata": {},
   "source": [
    "## **Business Understanding**"
   ]
  },
  {
   "cell_type": "markdown",
   "id": "a3bb9527",
   "metadata": {},
   "source": [
    "---\n",
    "\n",
    "### **Context**\n",
    "\n",
    "`Customer Lifetime Value`, atau `CLV`, adalah sebuah ukuran tentang seberapa berharganya seorang pelanggan bagi sebuah perusahaan. Dari nilai ini, perusahaan bisa menentukan berapa banyak keuntungan yang diperoleh dari satu pelanggan serta biaya yang dikeluarkan untuk mendapatkan atau mempertahankan pelanggan baru. Angka ini cukup penting bagi sebuah perusahaan untuk diketahui, terutama jika perusahaan ingin menargetkan pemasaran secara efektif kepada pelanggan yang bernilai tinggi, serta memahami bagaimana perubahan pelanggan perusahaan di masa depan."
   ]
  },
  {
   "cell_type": "markdown",
   "id": "9fc12b64",
   "metadata": {},
   "source": [
    "### **Problem Statement**\n",
    "\n",
    "Perusahaan tahu bahwa `Customer Lifetime Value (CLV)` penting untuk mengukur seberapa berharganya seorang pelanggan. Dengan `CLV`, perusahaan bisa menilai berapa keuntungan yang diperoleh dari tiap pelanggan serta biaya yang harus dikeluarkan untuk mendapatkan atau mempertahankan mereka para nasabah. Masalahnya, perusahaan belum punya cara otomatis untuk memprediksi nilai `CLV` dari setiap pelanggan berdasarkan data yang tersedia. Akibatnya, perusahaan kesulitan untuk menargetkan pemasaran secara efektif ke pelanggan bernilai tinggi dan juga kurang siap dalam memahami bagaimana perubahan basis pelanggan bisa terjadi di masa depan."
   ]
  },
  {
   "cell_type": "markdown",
   "id": "facba931",
   "metadata": {},
   "source": [
    "### **Goals**\n",
    "\n",
    "Tujuan dari proyek ini adalah membangun model prediksi untuk `Customer Lifetime Value (CLV)` berdasarkan data pelanggan yang sudah tersedia, seperti **Vehicle Class**, **Coverage**, **Employment Status**, **Income**, **Monthly Premium Auto**, hingga **Total Claim Amount** Dan masih banyak lagi. Dengan adanya model ini, perusahaan dapat:\n",
    "\n",
    "1. Mengidentifikasi pelanggan dengan nilai CLV tinggi yang layak diprioritaskan dalam program retensi.\n",
    "2. Mengoptimalkan strategi pemasaran dengan mengarahkan sumber daya pada pelanggan yang paling menguntungkan.\n",
    "3. Mengurangi biaya akuisisi dengan fokus pada segmen pelanggan yang bernilai tinggi.\n",
    "4. Memahami faktor faktor utama yang memengaruhi nilai pelanggan, sehingga mendukung pengambilan keputusan bisnis yang lebih tepat dan berorientasi jangka panjang.\n"
   ]
  },
  {
   "cell_type": "markdown",
   "id": "0ff00930",
   "metadata": {},
   "source": [
    "### **Analytic Approach**\n",
    "\n",
    "Jadi, yang perlu kita lakukan adalah menganalisis data pelanggan untuk menemukan pola dari fitur fitur yang ada, yang membedakan satu pelanggan dengan pelanggan lainnya dalam hal nilai seumur hidup (Customer Lifetime Value).\n",
    "\n",
    "Selanjutnya, kita akan membangun suatu model regresi yang dapat membantu perusahaan dalam memprediksi nilai CLV dari pelanggan baru maupun pelanggan yang sudah ada. Hasil prediksi ini dapat menjadi tool bagi perusahaan untuk mengidentifikasi pelanggan bernilai tinggi, merancang strategi retensi yang lebih efektif, serta mengoptimalkan alokasi biaya pemasaran.\n"
   ]
  },
  {
   "cell_type": "markdown",
   "id": "0d954588",
   "metadata": {},
   "source": [
    "### **Metric Evaluation**\n",
    "\n",
    "Dalam mengevaluasi performa model regresi yang dibangun, akan digunakan beberapa metrik, yaitu **Root Mean Squared Error** (RMSE), **Mean Absolute Error** (MAE), dan **Mean Absolute Percentage Error** (MAPE). **RMSE** mengukur rata rata akar kuadrat dari selisih antara nilai aktual dan prediksi, sedangkan **MAE** menghitung rata rata selisih absolutnya. **MAPE** digunakan untuk melihat seberapa besar rata rata kesalahan model dalam bentuk persentase terhadap nilai aktual. Semakin kecil nilai dari ketiga metrik ini, semakin baik pula kemampuan model dalam melakukan prediksi.\n",
    "\n",
    "Selain itu, apabila model linear dipilih sebagai model akhir, evaluasi juga akan mempertimbangkan **R-squared** dan **Adjusted R-squared**. Nilai ini menunjukkan seberapa besar variasi data yang dapat dijelaskan oleh model. Semakin mendekati angka 1, semakin baik model dalam merepresentasikan data. Namun demikian, perlu dicatat bahwa metrik ini kurang relevan untuk model non linear, sehingga penggunaannya hanya bersifat opsional sesuai jenis algoritma yang dipakai.\n",
    "\n",
    "---"
   ]
  },
  {
   "cell_type": "markdown",
   "id": "0462e282",
   "metadata": {},
   "source": [
    "## **Data Understanding**"
   ]
  },
  {
   "cell_type": "markdown",
   "id": "53efc235",
   "metadata": {},
   "source": [
    "---\n",
    "\n",
    "### **Information Dataset**\n",
    "\n",
    "- Dataset ini berasal dari **Insurance Dataset (Customer Lifetime Value)**\n",
    "- Setiap baris nya merepresentasikan satu pelanggan.\n",
    "- Setiap kolomnya merupakan fitur atau atribut dari pelanggan tersebut.\n"
   ]
  },
  {
   "cell_type": "markdown",
   "id": "5eabc34c",
   "metadata": {},
   "source": [
    "#### **Attribute Information**"
   ]
  },
  {
   "cell_type": "markdown",
   "id": "b02ef36a",
   "metadata": {},
   "source": [
    "| Fitur                   | Tipe Data   | Deskripsi                                                                 |\n",
    "|--------------------------|-------------|---------------------------------------------------------------------------|\n",
    "| Vehicle Class            | Object      | Jenis kendaraan yang dimiliki pelanggan.                                  |\n",
    "| Coverage                 | Object      | Tingkat cakupan polis.                                                    |\n",
    "| Renew Offer Type         | Object      | Jenis penawaran perpanjangan polis.                                       |\n",
    "| Employment Status        | Object      | Status pekerjaan pelanggan.                                               |\n",
    "| Marital Status           | Object      | Status perkawinan.                                                        |\n",
    "| Education                | Object      | Tingkat pendidikan pelanggan.                                             |\n",
    "| Number of Policies       | Integer     | Jumlah polis aktif yang dimiliki pelanggan.                               |\n",
    "| Monthly Premium Auto     | Integer     | Premi bulanan yang dibayar pelanggan untuk asuransi mobil.                |\n",
    "| Total Claim Amount       | Float       | Total nilai klaim yang pernah diajukan pelanggan.                         |\n",
    "| Income                   | Integer     | Pendapatan tahunan pelanggan.                                             |\n",
    "| Customer Lifetime Value  | Float       | Estimasi nilai seumur hidup pelanggan (variabel target untuk regresi).    |"
   ]
  },
  {
   "cell_type": "code",
   "execution_count": null,
   "id": "5e7b12d6",
   "metadata": {},
   "outputs": [],
   "source": []
  }
 ],
 "metadata": {
  "kernelspec": {
   "display_name": "venv",
   "language": "python",
   "name": "python3"
  },
  "language_info": {
   "codemirror_mode": {
    "name": "ipython",
    "version": 3
   },
   "file_extension": ".py",
   "mimetype": "text/x-python",
   "name": "python",
   "nbconvert_exporter": "python",
   "pygments_lexer": "ipython3",
   "version": "3.11.1"
  }
 },
 "nbformat": 4,
 "nbformat_minor": 5
}
